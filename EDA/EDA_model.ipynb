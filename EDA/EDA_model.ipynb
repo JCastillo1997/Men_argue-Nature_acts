{
 "cells": [
  {
   "cell_type": "code",
   "execution_count": 11,
   "metadata": {},
   "outputs": [],
   "source": [
    "import pandas as pd\n",
    "data_pol=pd.read_csv('C:/Users/Usuario/Documents/Men_argue-Nature_acts/CSV/pollution_pop.csv')\n",
    "data_city=pd.read_csv('C:/Users/Usuario/Documents/Men_argue-Nature_acts/CSV/cities_database.csv')"
   ]
  },
  {
   "cell_type": "code",
   "execution_count": 12,
   "metadata": {},
   "outputs": [],
   "source": [
    "\n",
    "data_pol.columns = data_pol.columns.str.strip()\n",
    "\n",
    "columns_to_convert = ['pm25', 'pm10', 'o3', 'no2', 'so2', 'co', 'year', 'pop']\n",
    "data_pol[columns_to_convert] = data_pol[columns_to_convert].apply(pd.to_numeric, errors='coerce')"
   ]
  },
  {
   "cell_type": "code",
   "execution_count": 13,
   "metadata": {},
   "outputs": [],
   "source": [
    "\n",
    "columns_to_fill = ['pm25', 'pm10', 'o3', 'no2', 'so2']\n",
    "\n",
    "for column in columns_to_fill:\n",
    "    mean_value = data_pol[column].mean()\n",
    "    data_pol[column].fillna(mean_value, inplace=True)"
   ]
  },
  {
   "cell_type": "code",
   "execution_count": 14,
   "metadata": {},
   "outputs": [],
   "source": [
    "data_pol['co'] = data_pol['co'].fillna(0)"
   ]
  },
  {
   "cell_type": "code",
   "execution_count": 15,
   "metadata": {},
   "outputs": [
    {
     "data": {
      "text/plain": [
       "Index(['pm25', 'pm10', 'o3', 'no2', 'so2', 'co', 'year', 'pop'], dtype='object')"
      ]
     },
     "execution_count": 15,
     "metadata": {},
     "output_type": "execute_result"
    }
   ],
   "source": [
    "data_pol.columns"
   ]
  },
  {
   "cell_type": "code",
   "execution_count": 16,
   "metadata": {},
   "outputs": [
    {
     "name": "stdout",
     "output_type": "stream",
     "text": [
      "     name  latitude  longitude country  population  is_capital\n",
      "0  Madrid   40.4189    -3.6919      ES     3266126        True\n"
     ]
    }
   ],
   "source": [
    "def get_city_data(madrid):\n",
    "    import requests\n",
    "    import pandas as pd\n",
    "    import json\n",
    "    \n",
    "    api_url = 'https://api.api-ninjas.com/v1/city?name={}'.format(city_name)\n",
    "    response = requests.get(api_url, headers={'X-Api-Key': 'XhKog+U7kqeVm1jW7MeNDg==ZsJmH2sbNbEnRq3H'})\n",
    "    if response.status_code == requests.codes.ok:\n",
    "        response_text = response.text\n",
    "        data = json.loads(response_text)\n",
    "        df = pd.DataFrame(data)\n",
    "        return df\n",
    "    else:\n",
    "        print(\"Error:\", response.status_code, respoonse_text)\n",
    "        return None\n",
    "city_name = 'madrid'\n",
    "city_df = get_city_data(city_name)\n",
    "if city_df is not None:\n",
    "    print(city_df)"
   ]
  },
  {
   "cell_type": "code",
   "execution_count": 17,
   "metadata": {},
   "outputs": [],
   "source": [
    "city_df.drop(columns='population',axis=1,inplace=True)\n"
   ]
  },
  {
   "cell_type": "code",
   "execution_count": 18,
   "metadata": {},
   "outputs": [],
   "source": [
    "data_pol = data_pol.assign(key=1)\n",
    "city_df = city_df.assign(key=1)\n",
    "\n"
   ]
  },
  {
   "cell_type": "code",
   "execution_count": 19,
   "metadata": {},
   "outputs": [],
   "source": [
    "result = pd.merge(city_df, data_pol, on='key').drop('key', axis=1)"
   ]
  },
  {
   "cell_type": "code",
   "execution_count": 20,
   "metadata": {},
   "outputs": [],
   "source": [
    "result = result.rename(columns={'pop': 'population', 'pm25': 'pm2.5'})"
   ]
  },
  {
   "cell_type": "code",
   "execution_count": 21,
   "metadata": {},
   "outputs": [],
   "source": [
    "new_order = ['name', 'latitude', 'longitude', 'country', 'population', 'is_capital', 'co', 'no2', 'o3', 'so2', 'pm2.5', 'pm10', 'overall_aqi']\n",
    "result = result.reindex(columns=new_order)"
   ]
  },
  {
   "cell_type": "code",
   "execution_count": 22,
   "metadata": {},
   "outputs": [],
   "source": [
    "result['overall_aqi'].fillna(0,inplace=True)"
   ]
  },
  {
   "cell_type": "code",
   "execution_count": 23,
   "metadata": {},
   "outputs": [
    {
     "data": {
      "text/html": [
       "<div>\n",
       "<style scoped>\n",
       "    .dataframe tbody tr th:only-of-type {\n",
       "        vertical-align: middle;\n",
       "    }\n",
       "\n",
       "    .dataframe tbody tr th {\n",
       "        vertical-align: top;\n",
       "    }\n",
       "\n",
       "    .dataframe thead th {\n",
       "        text-align: right;\n",
       "    }\n",
       "</style>\n",
       "<table border=\"1\" class=\"dataframe\">\n",
       "  <thead>\n",
       "    <tr style=\"text-align: right;\">\n",
       "      <th></th>\n",
       "      <th>name</th>\n",
       "      <th>latitude</th>\n",
       "      <th>longitude</th>\n",
       "      <th>country</th>\n",
       "      <th>population</th>\n",
       "      <th>is_capital</th>\n",
       "      <th>co</th>\n",
       "      <th>no2</th>\n",
       "      <th>o3</th>\n",
       "      <th>so2</th>\n",
       "      <th>pm2.5</th>\n",
       "      <th>pm10</th>\n",
       "      <th>overall_aqi</th>\n",
       "    </tr>\n",
       "  </thead>\n",
       "  <tbody>\n",
       "    <tr>\n",
       "      <th>0</th>\n",
       "      <td>Madrid</td>\n",
       "      <td>40.4189</td>\n",
       "      <td>-3.6919</td>\n",
       "      <td>ES</td>\n",
       "      <td>6044000</td>\n",
       "      <td>True</td>\n",
       "      <td>0.0</td>\n",
       "      <td>18.0</td>\n",
       "      <td>20.0</td>\n",
       "      <td>2.000000</td>\n",
       "      <td>55.805431</td>\n",
       "      <td>13.0</td>\n",
       "      <td>0.0</td>\n",
       "    </tr>\n",
       "    <tr>\n",
       "      <th>1</th>\n",
       "      <td>Madrid</td>\n",
       "      <td>40.4189</td>\n",
       "      <td>-3.6919</td>\n",
       "      <td>ES</td>\n",
       "      <td>6132000</td>\n",
       "      <td>True</td>\n",
       "      <td>0.0</td>\n",
       "      <td>26.0</td>\n",
       "      <td>60.0</td>\n",
       "      <td>2.000000</td>\n",
       "      <td>73.000000</td>\n",
       "      <td>39.0</td>\n",
       "      <td>0.0</td>\n",
       "    </tr>\n",
       "    <tr>\n",
       "      <th>2</th>\n",
       "      <td>Madrid</td>\n",
       "      <td>40.4189</td>\n",
       "      <td>-3.6919</td>\n",
       "      <td>ES</td>\n",
       "      <td>6132000</td>\n",
       "      <td>True</td>\n",
       "      <td>0.0</td>\n",
       "      <td>12.0</td>\n",
       "      <td>42.0</td>\n",
       "      <td>2.000000</td>\n",
       "      <td>69.000000</td>\n",
       "      <td>21.0</td>\n",
       "      <td>0.0</td>\n",
       "    </tr>\n",
       "    <tr>\n",
       "      <th>3</th>\n",
       "      <td>Madrid</td>\n",
       "      <td>40.4189</td>\n",
       "      <td>-3.6919</td>\n",
       "      <td>ES</td>\n",
       "      <td>6132000</td>\n",
       "      <td>True</td>\n",
       "      <td>0.0</td>\n",
       "      <td>17.0</td>\n",
       "      <td>58.0</td>\n",
       "      <td>2.000000</td>\n",
       "      <td>36.000000</td>\n",
       "      <td>21.0</td>\n",
       "      <td>0.0</td>\n",
       "    </tr>\n",
       "    <tr>\n",
       "      <th>4</th>\n",
       "      <td>Madrid</td>\n",
       "      <td>40.4189</td>\n",
       "      <td>-3.6919</td>\n",
       "      <td>ES</td>\n",
       "      <td>6132000</td>\n",
       "      <td>True</td>\n",
       "      <td>0.0</td>\n",
       "      <td>26.0</td>\n",
       "      <td>53.0</td>\n",
       "      <td>3.000000</td>\n",
       "      <td>40.000000</td>\n",
       "      <td>46.0</td>\n",
       "      <td>0.0</td>\n",
       "    </tr>\n",
       "    <tr>\n",
       "      <th>...</th>\n",
       "      <td>...</td>\n",
       "      <td>...</td>\n",
       "      <td>...</td>\n",
       "      <td>...</td>\n",
       "      <td>...</td>\n",
       "      <td>...</td>\n",
       "      <td>...</td>\n",
       "      <td>...</td>\n",
       "      <td>...</td>\n",
       "      <td>...</td>\n",
       "      <td>...</td>\n",
       "      <td>...</td>\n",
       "      <td>...</td>\n",
       "    </tr>\n",
       "    <tr>\n",
       "      <th>3589</th>\n",
       "      <td>Madrid</td>\n",
       "      <td>40.4189</td>\n",
       "      <td>-3.6919</td>\n",
       "      <td>ES</td>\n",
       "      <td>6783000</td>\n",
       "      <td>True</td>\n",
       "      <td>0.0</td>\n",
       "      <td>11.0</td>\n",
       "      <td>28.0</td>\n",
       "      <td>3.105897</td>\n",
       "      <td>43.000000</td>\n",
       "      <td>9.0</td>\n",
       "      <td>0.0</td>\n",
       "    </tr>\n",
       "    <tr>\n",
       "      <th>3590</th>\n",
       "      <td>Madrid</td>\n",
       "      <td>40.4189</td>\n",
       "      <td>-3.6919</td>\n",
       "      <td>ES</td>\n",
       "      <td>6783000</td>\n",
       "      <td>True</td>\n",
       "      <td>0.0</td>\n",
       "      <td>22.0</td>\n",
       "      <td>19.0</td>\n",
       "      <td>3.105897</td>\n",
       "      <td>45.000000</td>\n",
       "      <td>13.0</td>\n",
       "      <td>0.0</td>\n",
       "    </tr>\n",
       "    <tr>\n",
       "      <th>3591</th>\n",
       "      <td>Madrid</td>\n",
       "      <td>40.4189</td>\n",
       "      <td>-3.6919</td>\n",
       "      <td>ES</td>\n",
       "      <td>6783000</td>\n",
       "      <td>True</td>\n",
       "      <td>0.0</td>\n",
       "      <td>20.0</td>\n",
       "      <td>17.0</td>\n",
       "      <td>3.105897</td>\n",
       "      <td>62.000000</td>\n",
       "      <td>16.0</td>\n",
       "      <td>0.0</td>\n",
       "    </tr>\n",
       "    <tr>\n",
       "      <th>3592</th>\n",
       "      <td>Madrid</td>\n",
       "      <td>40.4189</td>\n",
       "      <td>-3.6919</td>\n",
       "      <td>ES</td>\n",
       "      <td>6783000</td>\n",
       "      <td>True</td>\n",
       "      <td>0.0</td>\n",
       "      <td>11.0</td>\n",
       "      <td>31.0</td>\n",
       "      <td>3.105897</td>\n",
       "      <td>41.000000</td>\n",
       "      <td>13.0</td>\n",
       "      <td>0.0</td>\n",
       "    </tr>\n",
       "    <tr>\n",
       "      <th>3593</th>\n",
       "      <td>Madrid</td>\n",
       "      <td>40.4189</td>\n",
       "      <td>-3.6919</td>\n",
       "      <td>ES</td>\n",
       "      <td>6783000</td>\n",
       "      <td>True</td>\n",
       "      <td>0.0</td>\n",
       "      <td>8.0</td>\n",
       "      <td>32.0</td>\n",
       "      <td>3.105897</td>\n",
       "      <td>26.000000</td>\n",
       "      <td>15.0</td>\n",
       "      <td>0.0</td>\n",
       "    </tr>\n",
       "  </tbody>\n",
       "</table>\n",
       "<p>3594 rows × 13 columns</p>\n",
       "</div>"
      ],
      "text/plain": [
       "        name  latitude  longitude country  population  is_capital   co   no2  \\\n",
       "0     Madrid   40.4189    -3.6919      ES     6044000        True  0.0  18.0   \n",
       "1     Madrid   40.4189    -3.6919      ES     6132000        True  0.0  26.0   \n",
       "2     Madrid   40.4189    -3.6919      ES     6132000        True  0.0  12.0   \n",
       "3     Madrid   40.4189    -3.6919      ES     6132000        True  0.0  17.0   \n",
       "4     Madrid   40.4189    -3.6919      ES     6132000        True  0.0  26.0   \n",
       "...      ...       ...        ...     ...         ...         ...  ...   ...   \n",
       "3589  Madrid   40.4189    -3.6919      ES     6783000        True  0.0  11.0   \n",
       "3590  Madrid   40.4189    -3.6919      ES     6783000        True  0.0  22.0   \n",
       "3591  Madrid   40.4189    -3.6919      ES     6783000        True  0.0  20.0   \n",
       "3592  Madrid   40.4189    -3.6919      ES     6783000        True  0.0  11.0   \n",
       "3593  Madrid   40.4189    -3.6919      ES     6783000        True  0.0   8.0   \n",
       "\n",
       "        o3       so2      pm2.5  pm10  overall_aqi  \n",
       "0     20.0  2.000000  55.805431  13.0          0.0  \n",
       "1     60.0  2.000000  73.000000  39.0          0.0  \n",
       "2     42.0  2.000000  69.000000  21.0          0.0  \n",
       "3     58.0  2.000000  36.000000  21.0          0.0  \n",
       "4     53.0  3.000000  40.000000  46.0          0.0  \n",
       "...    ...       ...        ...   ...          ...  \n",
       "3589  28.0  3.105897  43.000000   9.0          0.0  \n",
       "3590  19.0  3.105897  45.000000  13.0          0.0  \n",
       "3591  17.0  3.105897  62.000000  16.0          0.0  \n",
       "3592  31.0  3.105897  41.000000  13.0          0.0  \n",
       "3593  32.0  3.105897  26.000000  15.0          0.0  \n",
       "\n",
       "[3594 rows x 13 columns]"
      ]
     },
     "execution_count": 23,
     "metadata": {},
     "output_type": "execute_result"
    }
   ],
   "source": [
    "result"
   ]
  },
  {
   "cell_type": "code",
   "execution_count": 24,
   "metadata": {},
   "outputs": [
    {
     "ename": "SyntaxError",
     "evalue": "invalid syntax (162911398.py, line 1)",
     "output_type": "error",
     "traceback": [
      "\u001b[1;36m  Cell \u001b[1;32mIn[24], line 1\u001b[1;36m\u001b[0m\n\u001b[1;33m    -----------------------------------------------------------------------------\u001b[0m\n\u001b[1;37m                                                                                 ^\u001b[0m\n\u001b[1;31mSyntaxError\u001b[0m\u001b[1;31m:\u001b[0m invalid syntax\n"
     ]
    }
   ],
   "source": [
    "-----------------------------------------------------------------------------"
   ]
  },
  {
   "cell_type": "code",
   "execution_count": null,
   "metadata": {},
   "outputs": [],
   "source": [
    "from sklearn.model_selection import train_test_split\n",
    "\n",
    "# Define the features (X) and the target variables (y)\n",
    "features = result.drop(['population','name','latitude','longitude','country','is_capital'], axis=1)  # All columns except the target variables\n",
    "target = result[['co','pm2.5', 'pm10', 'o3', 'no2', 'so2']]  # Target variables\n",
    "\n",
    "# Split the data into training and testing sets\n",
    "X_train, X_test, y_train, y_test = train_test_split(features, target, test_size=0.2, random_state=42)"
   ]
  },
  {
   "cell_type": "code",
   "execution_count": null,
   "metadata": {},
   "outputs": [],
   "source": [
    "from sklearn.preprocessing import MinMaxScaler\n",
    "\n",
    "# Initialize the MinMaxScaler\n",
    "scaler = MinMaxScaler()\n",
    "\n",
    "# Fit and transform the training features\n",
    "X_train_normalized = scaler.fit_transform(X_train)\n",
    "\n",
    "# Transform the testing features\n",
    "X_test_normalized = scaler.transform(X_test)"
   ]
  },
  {
   "cell_type": "code",
   "execution_count": null,
   "metadata": {},
   "outputs": [
    {
     "name": "stdout",
     "output_type": "stream",
     "text": [
      "Mean Squared Error (Normalized Data): 5.63714616659931\n"
     ]
    }
   ],
   "source": [
    "from sklearn.ensemble import RandomForestRegressor\n",
    "from sklearn.metrics import mean_squared_error\n",
    "\n",
    "# Initialize the Random Forest Regression model\n",
    "rfr_model_normalized = RandomForestRegressor(n_estimators=100, random_state=42)\n",
    "\n",
    "# Train the model on the normalized training data\n",
    "rfr_model_normalized.fit(X_train_normalized, y_train)\n",
    "\n",
    "# Make predictions using the trained model on the normalized testing data\n",
    "y_pred_normalized = rfr_model_normalized.predict(X_test_normalized)\n",
    "\n",
    "# Evaluate the model using Mean Squared Error (MSE)\n",
    "mse_normalized = mean_squared_error(y_test, y_pred_normalized)\n",
    "print('Mean Squared Error (Normalized Data):', mse_normalized)"
   ]
  },
  {
   "cell_type": "code",
   "execution_count": null,
   "metadata": {},
   "outputs": [
    {
     "name": "stdout",
     "output_type": "stream",
     "text": [
      "Mean Squared Error: 4.734896122647636\n"
     ]
    }
   ],
   "source": [
    "from sklearn.ensemble import RandomForestRegressor\n",
    "from sklearn.metrics import mean_squared_error\n",
    "\n",
    "# Initialize the Random Forest Regression model\n",
    "rfr_model = RandomForestRegressor(n_estimators=100, random_state=42)  # You can adjust the n_estimators parameter as needed\n",
    "\n",
    "# Train the model on the training data\n",
    "rfr_model.fit(X_train, y_train)\n",
    "\n",
    "# Make predictions using the trained model\n",
    "y_pred = rfr_model.predict(X_test)\n",
    "\n",
    "# Evaluate the model using Mean Squared Error (MSE)\n",
    "mse = mean_squared_error(y_test, y_pred)\n",
    "print('Mean Squared Error:', mse)"
   ]
  },
  {
   "cell_type": "code",
   "execution_count": null,
   "metadata": {},
   "outputs": [
    {
     "name": "stderr",
     "output_type": "stream",
     "text": [
      "100%|██████████| 42/42 [00:10<00:00,  3.85it/s]\n"
     ]
    }
   ],
   "source": [
    "from lazypredict.Supervised import LazyRegressor\n",
    "from sklearn.model_selection import train_test_split\n",
    "\n",
    "# Split the data into training and testing sets (if not already split)\n",
    "X_train, X_test, y_train, y_test = train_test_split(features, target, test_size=0.2, random_state=42)\n",
    "\n",
    "# Initialize Lazy Regressor\n",
    "reg = LazyRegressor(verbose=0, ignore_warnings=True, custom_metric=None)\n",
    "\n",
    "# Fit and score all models\n",
    "models, predictions = reg.fit(X_train, X_test, y_train, y_test)"
   ]
  },
  {
   "cell_type": "code",
   "execution_count": null,
   "metadata": {},
   "outputs": [
    {
     "name": "stderr",
     "output_type": "stream",
     "text": [
      "100%|██████████| 42/42 [00:12<00:00,  3.33it/s]\n"
     ]
    }
   ],
   "source": [
    "from lazypredict.Supervised import LazyRegressor\n",
    "from sklearn.model_selection import train_test_split\n",
    "\n",
    "# Split the data into training and testing sets (if not already split)\n",
    "X_train, X_test, y_train, y_test = train_test_split(features, target, test_size=0.2, random_state=42)\n",
    "\n",
    "# Initialize Lazy Regressor\n",
    "reg = LazyRegressor(verbose=0, ignore_warnings=True, custom_metric=None)\n",
    "\n",
    "# Fit and score all models\n",
    "models, predictions = reg.fit(X_train, X_test, y_train, y_test)"
   ]
  },
  {
   "cell_type": "code",
   "execution_count": null,
   "metadata": {},
   "outputs": [
    {
     "name": "stdout",
     "output_type": "stream",
     "text": [
      "Requirement already satisfied: joblib in c:\\users\\usuario\\anaconda3\\lib\\site-packages (1.2.0)\n",
      "Note: you may need to restart the kernel to use updated packages.\n"
     ]
    }
   ],
   "source": [
    "pip install joblib"
   ]
  },
  {
   "cell_type": "code",
   "execution_count": null,
   "metadata": {},
   "outputs": [
    {
     "data": {
      "text/plain": [
       "['pred_model.joblib']"
      ]
     },
     "execution_count": 32,
     "metadata": {},
     "output_type": "execute_result"
    }
   ],
   "source": [
    "import joblib\n",
    "\n",
    "joblib.dump(rfr_model, 'pred_model.joblib')"
   ]
  },
  {
   "cell_type": "code",
   "execution_count": null,
   "metadata": {},
   "outputs": [
    {
     "name": "stdout",
     "output_type": "stream",
     "text": [
      "Requirement already satisfied: scikit-learn in c:\\users\\usuario\\anaconda3\\lib\\site-packages (1.3.0)\n",
      "Collecting scikit-learn\n",
      "  Obtaining dependency information for scikit-learn from https://files.pythonhosted.org/packages/7b/0e/25d6b5678ed3c7e12bc94d047d0e9492e89cc78b7ea0034ac0f1cf2ff304/scikit_learn-1.4.1.post1-cp311-cp311-win_amd64.whl.metadata\n",
      "  Downloading scikit_learn-1.4.1.post1-cp311-cp311-win_amd64.whl.metadata (11 kB)\n",
      "Requirement already satisfied: numpy<2.0,>=1.19.5 in c:\\users\\usuario\\anaconda3\\lib\\site-packages (from scikit-learn) (1.24.3)\n",
      "Requirement already satisfied: scipy>=1.6.0 in c:\\users\\usuario\\anaconda3\\lib\\site-packages (from scikit-learn) (1.11.1)\n",
      "Requirement already satisfied: joblib>=1.2.0 in c:\\users\\usuario\\anaconda3\\lib\\site-packages (from scikit-learn) (1.2.0)\n",
      "Requirement already satisfied: threadpoolctl>=2.0.0 in c:\\users\\usuario\\anaconda3\\lib\\site-packages (from scikit-learn) (2.2.0)\n",
      "Downloading scikit_learn-1.4.1.post1-cp311-cp311-win_amd64.whl (10.6 MB)\n",
      "   ---------------------------------------- 0.0/10.6 MB ? eta -:--:--\n",
      "   ---------------------------------------- 0.0/10.6 MB ? eta -:--:--\n",
      "   ---------------------------------------- 0.1/10.6 MB 1.3 MB/s eta 0:00:09\n",
      "   --- ------------------------------------ 0.9/10.6 MB 9.5 MB/s eta 0:00:02\n",
      "   ------------ --------------------------- 3.4/10.6 MB 21.3 MB/s eta 0:00:01\n",
      "   ---------------------- ----------------- 6.0/10.6 MB 29.4 MB/s eta 0:00:01\n",
      "   --------------------------------- ------ 9.0/10.6 MB 36.1 MB/s eta 0:00:01\n",
      "   ---------------------------------------  10.6/10.6 MB 50.1 MB/s eta 0:00:01\n",
      "   ---------------------------------------  10.6/10.6 MB 50.1 MB/s eta 0:00:01\n",
      "   ---------------------------------------- 10.6/10.6 MB 36.2 MB/s eta 0:00:00\n",
      "Installing collected packages: scikit-learn\n",
      "  Attempting uninstall: scikit-learn\n",
      "    Found existing installation: scikit-learn 1.3.0\n",
      "    Uninstalling scikit-learn-1.3.0:\n",
      "      Successfully uninstalled scikit-learn-1.3.0\n",
      "Note: you may need to restart the kernel to use updated packages.\n"
     ]
    },
    {
     "name": "stderr",
     "output_type": "stream",
     "text": [
      "ERROR: Could not install packages due to an OSError: [WinError 5] Acceso denegado: 'C:\\\\Users\\\\Usuario\\\\anaconda3\\\\Lib\\\\site-packages\\\\~klearn\\\\utils\\\\murmurhash.cp311-win_amd64.pyd'\n",
      "Consider using the `--user` option or check the permissions.\n",
      "\n"
     ]
    }
   ],
   "source": [
    "pip install --upgrade scikit-learn"
   ]
  },
  {
   "cell_type": "code",
   "execution_count": null,
   "metadata": {},
   "outputs": [
    {
     "name": "stdout",
     "output_type": "stream",
     "text": [
      "1.3.0\n"
     ]
    }
   ],
   "source": [
    "import sklearn; print(sklearn.__version__)"
   ]
  }
 ],
 "metadata": {
  "kernelspec": {
   "display_name": "base",
   "language": "python",
   "name": "python3"
  },
  "language_info": {
   "codemirror_mode": {
    "name": "ipython",
    "version": 3
   },
   "file_extension": ".py",
   "mimetype": "text/x-python",
   "name": "python",
   "nbconvert_exporter": "python",
   "pygments_lexer": "ipython3",
   "version": "3.11.5"
  }
 },
 "nbformat": 4,
 "nbformat_minor": 2
}
