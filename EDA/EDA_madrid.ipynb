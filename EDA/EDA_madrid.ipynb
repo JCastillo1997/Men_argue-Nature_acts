{
 "cells": [
  {
   "cell_type": "code",
   "execution_count": 1,
   "metadata": {},
   "outputs": [],
   "source": [
    "import pandas as pd"
   ]
  },
  {
   "cell_type": "code",
   "execution_count": 5,
   "metadata": {},
   "outputs": [
    {
     "name": "stdout",
     "output_type": "stream",
     "text": [
      "<class 'pandas.core.frame.DataFrame'>\n",
      "RangeIndex: 3594 entries, 0 to 3593\n",
      "Data columns (total 7 columns):\n",
      " #   Column  Non-Null Count  Dtype \n",
      "---  ------  --------------  ----- \n",
      " 0   date    3594 non-null   object\n",
      " 1    pm25   3594 non-null   object\n",
      " 2    pm10   3594 non-null   object\n",
      " 3    o3     3594 non-null   object\n",
      " 4    no2    3594 non-null   object\n",
      " 5    so2    3594 non-null   object\n",
      " 6    co     3594 non-null   object\n",
      "dtypes: object(7)\n",
      "memory usage: 196.7+ KB\n"
     ]
    }
   ],
   "source": [
    "df =pd.read_csv('C:/Users/Usuario/Documents/Men_argue-Nature_acts/CSV/madrid_air.csv')\n",
    "df.info()"
   ]
  },
  {
   "cell_type": "code",
   "execution_count": 6,
   "metadata": {},
   "outputs": [
    {
     "ename": "SyntaxError",
     "evalue": "(unicode error) 'unicodeescape' codec can't decode bytes in position 2-3: truncated \\UXXXXXXXX escape (3633235226.py, line 1)",
     "output_type": "error",
     "traceback": [
      "\u001b[1;36m  Cell \u001b[1;32mIn[6], line 1\u001b[1;36m\u001b[0m\n\u001b[1;33m    df_pop= pd.read_csv('C:\\Users\\Usuario\\Documents\\Men_argue-Nature_acts\\CSV\\madrid_pop.csv')\u001b[0m\n\u001b[1;37m                                                                                             ^\u001b[0m\n\u001b[1;31mSyntaxError\u001b[0m\u001b[1;31m:\u001b[0m (unicode error) 'unicodeescape' codec can't decode bytes in position 2-3: truncated \\UXXXXXXXX escape\n"
     ]
    }
   ],
   "source": [
    "df_pop= pd.read_csv('C:\\Users\\Usuario\\Documents\\Men_argue-Nature_acts\\CSV\\madrid_pop.csv')\n",
    "df_pop"
   ]
  }
 ],
 "metadata": {
  "kernelspec": {
   "display_name": "base",
   "language": "python",
   "name": "python3"
  },
  "language_info": {
   "codemirror_mode": {
    "name": "ipython",
    "version": 3
   },
   "file_extension": ".py",
   "mimetype": "text/x-python",
   "name": "python",
   "nbconvert_exporter": "python",
   "pygments_lexer": "ipython3",
   "version": "3.11.5"
  }
 },
 "nbformat": 4,
 "nbformat_minor": 2
}
