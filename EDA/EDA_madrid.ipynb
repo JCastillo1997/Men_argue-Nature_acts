{
 "cells": [
  {
   "cell_type": "code",
   "execution_count": 1,
   "metadata": {},
   "outputs": [],
   "source": [
    "import pandas as pd"
   ]
  },
  {
   "cell_type": "code",
   "execution_count": 16,
   "metadata": {},
   "outputs": [
    {
     "name": "stdout",
     "output_type": "stream",
     "text": [
      "<class 'pandas.core.frame.DataFrame'>\n",
      "RangeIndex: 3594 entries, 0 to 3593\n",
      "Data columns (total 7 columns):\n",
      " #   Column  Non-Null Count  Dtype \n",
      "---  ------  --------------  ----- \n",
      " 0   date    3594 non-null   object\n",
      " 1    pm25   3594 non-null   object\n",
      " 2    pm10   3594 non-null   object\n",
      " 3    o3     3594 non-null   object\n",
      " 4    no2    3594 non-null   object\n",
      " 5    so2    3594 non-null   object\n",
      " 6    co     3594 non-null   object\n",
      "dtypes: object(7)\n",
      "memory usage: 196.7+ KB\n"
     ]
    }
   ],
   "source": [
    "df =pd.read_csv('C:/Users/Usuario/Documents/Men_argue-Nature_acts/CSV/madrid-air-quality.csv')\n",
    "\n",
    "df.info()"
   ]
  },
  {
   "cell_type": "code",
   "execution_count": null,
   "metadata": {},
   "outputs": [],
   "source": [
    "https://en.wikipedia.org/wiki/Demographics_of_Madrid"
   ]
  }
 ],
 "metadata": {
  "kernelspec": {
   "display_name": "base",
   "language": "python",
   "name": "python3"
  },
  "language_info": {
   "codemirror_mode": {
    "name": "ipython",
    "version": 3
   },
   "file_extension": ".py",
   "mimetype": "text/x-python",
   "name": "python",
   "nbconvert_exporter": "python",
   "pygments_lexer": "ipython3",
   "version": "3.11.5"
  }
 },
 "nbformat": 4,
 "nbformat_minor": 2
}
