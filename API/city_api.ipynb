{
 "cells": [
  {
   "cell_type": "code",
   "execution_count": 1,
   "metadata": {},
   "outputs": [
    {
     "name": "stdout",
     "output_type": "stream",
     "text": [
      "        name  latitude  longitude country  population  is_capital\n",
      "0  Barcelona   41.3825     2.1769      ES     4588000       False\n"
     ]
    }
   ],
   "source": [
    "def get_city_data(city_name):\n",
    "    import requests\n",
    "    import pandas as pd\n",
    "    import json\n",
    "    \n",
    "    api_url = 'https://api.api-ninjas.com/v1/city?name={}'.format(city_name)\n",
    "    response = requests.get(api_url, headers={'X-Api-Key': 'XhKog+U7kqeVm1jW7MeNDg==ZsJmH2sbNbEnRq3H'})\n",
    "    if response.status_code == requests.codes.ok:\n",
    "        response_text = response.text\n",
    "        data = json.loads(response_text)\n",
    "        df = pd.DataFrame(data)\n",
    "        return df\n",
    "    else:\n",
    "        print(\"Error:\", response.status_code, respoonse_text)\n",
    "        return None\n",
    "city_name = input('Enter the city name: ')\n",
    "city_df = get_city_data(city_name)\n",
    "if city_df is not None:\n",
    "    print(city_df)"
   ]
  },
  {
   "cell_type": "code",
   "execution_count": null,
   "metadata": {},
   "outputs": [],
   "source": []
  }
 ],
 "metadata": {
  "kernelspec": {
   "display_name": "base",
   "language": "python",
   "name": "python3"
  },
  "language_info": {
   "codemirror_mode": {
    "name": "ipython",
    "version": 3
   },
   "file_extension": ".py",
   "mimetype": "text/x-python",
   "name": "python",
   "nbconvert_exporter": "python",
   "pygments_lexer": "ipython3",
   "version": "3.11.5"
  }
 },
 "nbformat": 4,
 "nbformat_minor": 2
}
