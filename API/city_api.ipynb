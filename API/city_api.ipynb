{
 "cells": [
  {
   "cell_type": "code",
   "execution_count": null,
   "metadata": {},
   "outputs": [],
   "source": [
    "def get_city_data(city_name):\n",
    "    import requests\n",
    "    import pandas as pd\n",
    "    import json\n",
    "    \n",
    "    api_url = 'https://api.api-ninjas.com/v1/city?name={}'.format(city_name)\n",
    "    response = requests.get(api_url, headers={'X-Api-Key': 'XhKog+U7kqeVm1jW7MeNDg==ZsJmH2sbNbEnRq3H'})\n",
    "    if response.status_code == requests.codes.ok:\n",
    "        response_text = response.text\n",
    "        data = json.loads(response_text)\n",
    "        df = pd.DataFrame(data)\n",
    "        return df\n",
    "    else:\n",
    "        print(\"Error:\", response.status_code, respoºnse.text)\n",
    "        return None\n",
    "city_name = input('Enter the city name: ')\n",
    "city_df = get_city_data(city_name)\n",
    "if city_df is not None:\n",
    "    print(city_df)"
   ]
  }
 ],
 "metadata": {
  "language_info": {
   "name": "python"
  }
 },
 "nbformat": 4,
 "nbformat_minor": 2
}
