{
 "cells": [
  {
   "cell_type": "code",
   "execution_count": null,
   "metadata": {},
   "outputs": [],
   "source": [
    "def get_city_data(city_name):\n",
    "    import requests\n",
    "    import pandas as pd\n",
    "    import json\n",
    "    \n",
    "    api_url = 'https://api.api-ninjas.com/v1/city?name={}'.format(city_name)\n",
    "    response = requests.get(api_url, headers={'X-Api-Key': 'XhKog+U7kqeVm1jW7MeNDg==ZsJmH2sbNbEnRq3H'})\n",
    "    if response.status_code == requests.codes.ok:\n",
    "        response_text = response.text\n",
    "        data = json.loads(response_text)\n",
    "        df = pd.DataFrame(data)\n",
    "        return df\n",
    "    else:\n",
    "        print(\"Error:\", response.status_code, respoºnse.text)\n",
    "        return None\n",
    "city_name = input('Enter the city name: ')\n",
    "city_df = get_city_data(city_name)\n",
    "if city_df is not None:\n",
    "    print(city_df)"
   ]
  },
  {
   "cell_type": "code",
   "execution_count": null,
   "metadata": {},
   "outputs": [],
   "source": [
    "import pandas as pd\n",
    "url_1= 'https://en.wikipedia.org/wiki/Madrid'\n",
    "df_1 = pd.read_html(url_1)[0]"
   ]
  },
  {
   "cell_type": "code",
   "execution_count": null,
   "metadata": {},
   "outputs": [],
   "source": [
    "import pandas as pd\n",
    "url_2='https://en.wikipedia.org/wiki/Demographics_of_Madrid'\n",
    "df_2 = pd.read_html(url_2)[1]"
   ]
  },
  {
   "cell_type": "code",
   "execution_count": null,
   "metadata": {},
   "outputs": [],
   "source": [
    "df_2.drop(columns='±%',inplace=True)\n",
    "df_2.rename(columns={'Pop.': 'population'}, inplace=True)\n",
    "df_2.rename(columns=lambda x: x.lower(), inplace=True)"
   ]
  },
  {
   "cell_type": "code",
   "execution_count": null,
   "metadata": {},
   "outputs": [],
   "source": [
    "df_2['year'] = df_2['year'].astype(int)"
   ]
  },
  {
   "cell_type": "code",
   "execution_count": null,
   "metadata": {},
   "outputs": [],
   "source": [
    "df_2 = df_2[~df_2['year'].str.contains('a')]\n",
    "df_2 = df_2[~df_2['population'].str.contains('a')]"
   ]
  }
 ],
 "metadata": {
  "kernelspec": {
   "display_name": "base",
   "language": "python",
   "name": "python3"
  },
  "language_info": {
   "codemirror_mode": {
    "name": "ipython",
    "version": 3
   },
   "file_extension": ".py",
   "mimetype": "text/x-python",
   "name": "python",
   "nbconvert_exporter": "python",
   "pygments_lexer": "ipython3",
   "version": "3.11.5"
  }
 },
 "nbformat": 4,
 "nbformat_minor": 2
}
