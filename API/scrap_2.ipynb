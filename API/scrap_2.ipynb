{
 "cells": [
  {
   "cell_type": "code",
   "execution_count": 1,
   "metadata": {},
   "outputs": [],
   "source": [
    "import sys"
   ]
  },
  {
   "cell_type": "code",
   "execution_count": 2,
   "metadata": {},
   "outputs": [],
   "source": [
    "sys.path.append('C:/Users/Usuario/Documents/Men_argue-Nature_acts/FUNCTIONS')"
   ]
  },
  {
   "cell_type": "code",
   "execution_count": 3,
   "metadata": {},
   "outputs": [
    {
     "name": "stdout",
     "output_type": "stream",
     "text": [
      "       co    no2     o3   so2  pm2.5   pm10  overall_aqi\n",
      "0  460.63  31.53  52.93  1.88  12.44  14.62          NaN\n",
      "1    5.00  39.00  44.00  2.00  40.00  13.00         44.0\n"
     ]
    }
   ],
   "source": [
    "from functions import air_url"
   ]
  },
  {
   "cell_type": "code",
   "execution_count": 4,
   "metadata": {},
   "outputs": [],
   "source": [
    "from functions import scrape_air_data"
   ]
  },
  {
   "cell_type": "code",
   "execution_count": 6,
   "metadata": {},
   "outputs": [],
   "source": [
    "\n",
    "search_query = input('What city do you want to know')\n",
    "returned_url = air_url(search_query)"
   ]
  },
  {
   "cell_type": "code",
   "execution_count": 7,
   "metadata": {},
   "outputs": [
    {
     "data": {
      "text/plain": [
       "(             0          1\n",
       " 0      Weather  Clear sky\n",
       " 1  Temperature       14°C\n",
       " 2     Humidity        49%\n",
       " 3         Wind  27.8 km/h\n",
       " 4     Pressure  1024 mbar,\n",
       "     #                                  city  US AQI\n",
       " 0   1                         Vigo, Galicia      55\n",
       " 1   2  San Sebastián de La Gomera, Canarias      52\n",
       " 2   3                     Huelva, Andalucía      50\n",
       " 3   4          Puerto del Rosario, Canarias      50\n",
       " 4   5                     A Coruna, Galicia      48\n",
       " 5   6                  Tarragona, Catalunya      43\n",
       " 6   7                       Elche, Valencia      42\n",
       " 7   8                Torrelavega, Cantabria      41\n",
       " 8   9              Donostia, Basque Country      40\n",
       " 9  10                     Alacant, Valencia      39,\n",
       "    #             station  US AQI\n",
       " 0  1       Parque Europa      33\n",
       " 1  2  Dirección De Salud      29\n",
       " 2  3           Mazarredo      20,\n",
       "   Air pollution level Air quality index Main pollutant\n",
       " 0                Good         34 US AQI             O3,\n",
       "   Pollutants  Pollutants.1 Concentration\n",
       " 0      PM2.5           NaN      4.9µg/m³\n",
       " 1       PM10           NaN       11µg/m³\n",
       " 2         O3           NaN     82.9µg/m³\n",
       " 3        NO2           NaN     26.8µg/m³,\n",
       "     0                                                  1\n",
       " 0 NaN                           Enjoy outdoor activities\n",
       " 1 NaN  Open your windows to bring clean, fresh air in...,\n",
       "                 Day Pollution level Weather Temperature       Wind\n",
       " 0   Saturday, Mar 2  Good 30 AQI US     NaN      12° 5°  25.2 km/h\n",
       " 1     Sunday, Mar 3  Good 30 AQI US     NaN       9° 5°  10.8 km/h\n",
       " 2     Monday, Mar 4  Good 23 AQI US     NaN      15° 5°    18 km/h\n",
       " 3             Today  Good 34 AQI US     80%      14° 5°  10.8 km/h\n",
       " 4  Wednesday, Mar 6  Good 18 AQI US     NaN      16° 5°   7.2 km/h\n",
       " 5   Thursday, Mar 7  Good 15 AQI US     50%      18° 7°    18 km/h\n",
       " 6     Friday, Mar 8   Good 6 AQI US     70%      11° 7°  21.6 km/h\n",
       " 7   Saturday, Mar 9   Good 5 AQI US     90%      12° 6°    18 km/h\n",
       " 8    Sunday, Mar 10   Good 4 AQI US     90%       9° 5°    18 km/h\n",
       " 9    Monday, Mar 11   Good 7 AQI US    100%       9° 6°  10.8 km/h)"
      ]
     },
     "execution_count": 7,
     "metadata": {},
     "output_type": "execute_result"
    }
   ],
   "source": [
    "scrape_air_data(returned_url)"
   ]
  },
  {
   "cell_type": "code",
   "execution_count": null,
   "metadata": {},
   "outputs": [],
   "source": [
    "d"
   ]
  },
  {
   "cell_type": "code",
   "execution_count": null,
   "metadata": {},
   "outputs": [],
   "source": []
  }
 ],
 "metadata": {
  "kernelspec": {
   "display_name": "base",
   "language": "python",
   "name": "python3"
  },
  "language_info": {
   "codemirror_mode": {
    "name": "ipython",
    "version": 3
   },
   "file_extension": ".py",
   "mimetype": "text/x-python",
   "name": "python",
   "nbconvert_exporter": "python",
   "pygments_lexer": "ipython3",
   "version": "3.11.5"
  }
 },
 "nbformat": 4,
 "nbformat_minor": 2
}
