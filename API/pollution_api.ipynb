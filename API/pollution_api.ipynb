{
 "cells": [
  {
   "cell_type": "code",
   "execution_count": 23,
   "metadata": {},
   "outputs": [
    {
     "name": "stdout",
     "output_type": "stream",
     "text": [
      "       co    no2      o3   so2  pm2.5  pm10  overall_aqi\n",
      "0  323.77  12.68   86.55  0.98   7.15  8.42          NaN\n",
      "1    3.00  15.00  128.00  1.00  23.00  7.00        128.0\n"
     ]
    }
   ],
   "source": [
    "def get_air_quality_data(city):\n",
    "    import requests\n",
    "    import pandas as pd\n",
    "\n",
    "    api_url = 'https://api.api-ninjas.com/v1/airquality?city={}'.format(city)\n",
    "    response = requests.get(api_url, headers={'X-Api-Key': 'XhKog+U7kqeVm1jW7MeNDg==ZsJmH2sbNbEnRq3H'})\n",
    "    if response.status_code == requests.codes.ok:\n",
    "        air_quality_data = response.json()\n",
    "        if 'error' in air_quality_data:\n",
    "            raise ValueError(\"Error: City not found in the database\")\n",
    "        else:\n",
    "            # Convert the JSON data to a dataframe\n",
    "            data = {k.lower(): [v['concentration'], v['aqi']] for k, v in air_quality_data.items() if k != 'overall_aqi'}\n",
    "            data['overall_aqi'] = [None, air_quality_data['overall_aqi']]\n",
    "            pollution_df = pd.DataFrame(data)\n",
    "            return pollution_df\n",
    "    else:\n",
    "        raise requests.ConnectionError(f\"Error: {response.status_code} - {response.text}\")\n",
    "\n",
    "# Test the function with a city\n",
    "city_name = input(\"Enter a city name: \")  # Prompt the user to enter a city name\n",
    "try:\n",
    "    pollution_df = get_air_quality_data(city_name)\n",
    "    print(pollution_df)\n",
    "except ValueError as ve:\n",
    "    print(ve)\n",
    "except requests.ConnectionError as ce:\n",
    "    print(ce)"
   ]
  }
 ],
 "metadata": {
  "kernelspec": {
   "display_name": "base",
   "language": "python",
   "name": "python3"
  },
  "language_info": {
   "codemirror_mode": {
    "name": "ipython",
    "version": 3
   },
   "file_extension": ".py",
   "mimetype": "text/x-python",
   "name": "python",
   "nbconvert_exporter": "python",
   "pygments_lexer": "ipython3",
   "version": "3.11.5"
  }
 },
 "nbformat": 4,
 "nbformat_minor": 2
}
