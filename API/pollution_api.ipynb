{
 "cells": [
  {
   "cell_type": "code",
   "execution_count": 8,
   "metadata": {},
   "outputs": [
    {
     "name": "stdout",
     "output_type": "stream",
     "text": [
      "       co    no2      o3   so2  pm2.5   pm10  overall_aqi\n",
      "0  300.41   8.65  105.86  0.78  10.97  12.42          NaN\n",
      "1    3.00  10.00  177.00  1.00  35.00  11.00        177.0\n"
     ]
    }
   ],
   "source": [
    "def get_air_quality_data(city):\n",
    "    import requests\n",
    "    import pandas as pd\n",
    "\n",
    "    api_url = 'https://api.api-ninjas.com/v1/airquality?city={}'.format(city)\n",
    "    response = requests.get(api_url, headers={'X-Api-Key': 'XhKog+U7kqeVm1jW7MeNDg==ZsJmH2sbNbEnRq3H'})\n",
    "    if response.status_code == requests.codes.ok:\n",
    "        air_quality_data = response.json()\n",
    "        if 'error' in air_quality_data:\n",
    "            raise ValueError(\"Error: City not found in the database\")\n",
    "        else:\n",
    "            # Convert the JSON data to a dataframe\n",
    "            data = {k.lower(): [v['concentration'], v['aqi']] for k, v in air_quality_data.items() if k != 'overall_aqi'}\n",
    "            data['overall_aqi'] = [None, air_quality_data['overall_aqi']]\n",
    "            pollution_df = pd.DataFrame(data)\n",
    "            return pollution_df\n",
    "    else:\n",
    "        raise requests.ConnectionError(f\"Error: {response.status_code} - {response.text}\")\n",
    "\n",
    "# Test the function with a city\n",
    "city_name = input(\"Enter a city name: \")  # Prompt the user to enter a city name\n",
    "try:\n",
    "    pollution_df = get_air_quality_data(city_name)\n",
    "    print(pollution_df)\n",
    "except ValueError as ve:\n",
    "    print(ve)\n",
    "except requests.ConnectionError as ce:\n",
    "    print(ce)"
   ]
  },
  {
   "cell_type": "code",
   "execution_count": 7,
   "metadata": {},
   "outputs": [
    {
     "name": "stdout",
     "output_type": "stream",
     "text": [
      "     name  latitude  longitude country  population  is_capital\n",
      "0  Madrid   40.4189    -3.6919      ES     3266126        True\n"
     ]
    }
   ],
   "source": [
    "def get_city_info(city_name):\n",
    "    import pandas as pd  # Importing pandas inside the function (not recommended)\n",
    "    import requests  # Importing requests inside the function (not recommended)\n",
    "\n",
    "    api_url = 'https://api.api-ninjas.com/v1/city?name={}'.format(city_name)\n",
    "    api_key = 'XhKog+U7kqeVm1jW7MeNDg==ZsJmH2sbNbEnRq3H'  # Replace this with your actual API key\n",
    "    headers = {'X-Api-Key': api_key}\n",
    "\n",
    "    response = requests.get(api_url, headers=headers)\n",
    "    if response.status_code == requests.codes.ok:\n",
    "        city_info = response.json()\n",
    "        df = pd.DataFrame(city_info)\n",
    "        return df\n",
    "    else:\n",
    "        return \"Error:\", response.status_code, response.text\n",
    "\n",
    "# Example usage\n",
    "city_name = input(\"Enter a city name: \")\n",
    "city_df = get_city_info(city_name)\n",
    "print(city_df)"
   ]
  },
  {
   "cell_type": "code",
   "execution_count": 13,
   "metadata": {},
   "outputs": [],
   "source": [
    "def merge_city_pollution_data(city_df, pollution_df, key):\n",
    "    import pandas as pd\n",
    "\n",
    "    merged_df = city_df.merge(pollution_df, on=key, how='left')\n",
    "    return merged_df"
   ]
  },
  {
   "cell_type": "code",
   "execution_count": 17,
   "metadata": {},
   "outputs": [],
   "source": [
    "def get_city_data(Madrid):\n",
    "    # Lazy import (importing inside the function)\n",
    "    import pandas as pd  \n",
    "    \n",
    "    # Step 1: Get pollution data for the city\n",
    "    pollution_data = get_air_quality_data(city)\n",
    "    \n",
    "    # Step 2: Get city information\n",
    "    city_info = get_city_info(city)\n",
    "    \n",
    "    # Step 3: Merge pollution data with city information\n",
    "    merged_data = merge_city_pollution_data(city_info, pollution_data, 'name')\n",
    "    \n",
    "    return merged_data"
   ]
  },
  {
   "cell_type": "code",
   "execution_count": 18,
   "metadata": {},
   "outputs": [
    {
     "ename": "NameError",
     "evalue": "name 'merged_data' is not defined",
     "output_type": "error",
     "traceback": [
      "\u001b[1;31m---------------------------------------------------------------------------\u001b[0m",
      "\u001b[1;31mNameError\u001b[0m                                 Traceback (most recent call last)",
      "Cell \u001b[1;32mIn[18], line 1\u001b[0m\n\u001b[1;32m----> 1\u001b[0m merged_data\n",
      "\u001b[1;31mNameError\u001b[0m: name 'merged_data' is not defined"
     ]
    }
   ],
   "source": [
    "merged_data"
   ]
  }
 ],
 "metadata": {
  "kernelspec": {
   "display_name": "base",
   "language": "python",
   "name": "python3"
  },
  "language_info": {
   "codemirror_mode": {
    "name": "ipython",
    "version": 3
   },
   "file_extension": ".py",
   "mimetype": "text/x-python",
   "name": "python",
   "nbconvert_exporter": "python",
   "pygments_lexer": "ipython3",
   "version": "3.11.5"
  }
 },
 "nbformat": 4,
 "nbformat_minor": 2
}
